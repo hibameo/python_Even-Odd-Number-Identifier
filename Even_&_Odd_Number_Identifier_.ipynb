{
  "nbformat": 4,
  "nbformat_minor": 0,
  "metadata": {
    "colab": {
      "provenance": [],
      "include_colab_link": true
    },
    "kernelspec": {
      "name": "python3",
      "display_name": "Python 3"
    },
    "language_info": {
      "name": "python"
    }
  },
  "cells": [
    {
      "cell_type": "markdown",
      "metadata": {
        "id": "view-in-github",
        "colab_type": "text"
      },
      "source": [
        "<a href=\"https://colab.research.google.com/github/hibameo/python_Even-Odd-Number-Identifier/blob/main/Even_%26_Odd_Number_Identifier_.ipynb\" target=\"_parent\"><img src=\"https://colab.research.google.com/assets/colab-badge.svg\" alt=\"Open In Colab\"/></a>"
      ]
    },
    {
      "cell_type": "markdown",
      "source": [
        "***Even & Odd Number Identifier***\n",
        "\n",
        " Features:\n",
        "\n",
        " User se ek number lega\n",
        "\n",
        " Check karega ke wo even hai ya odd"
      ],
      "metadata": {
        "id": "gOAhz5xVrVhh"
      }
    },
    {
      "cell_type": "code",
      "execution_count": 1,
      "metadata": {
        "id": "TAjTZDZzrR2O",
        "outputId": "69474953-edbd-4470-a46b-d84a060d2982",
        "colab": {
          "base_uri": "https://localhost:8080/"
        }
      },
      "outputs": [
        {
          "output_type": "stream",
          "name": "stdout",
          "text": [
            "Enter a number: 3\n",
            "This is an ODD number.\n"
          ]
        }
      ],
      "source": [
        "num = int(input(\"Enter a number: \"))\n",
        "\n",
        "if num % 2 == 0:\n",
        "    print(\"This is an EVEN number.\")\n",
        "else:\n",
        "    print(\"This is an ODD number.\")\n"
      ]
    }
  ]
}